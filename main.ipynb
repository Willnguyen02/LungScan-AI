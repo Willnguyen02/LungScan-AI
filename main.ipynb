{
 "cells": [
  {
   "cell_type": "markdown",
   "metadata": {},
   "source": [
    "# LungScan AI"
   ]
  },
  {
   "cell_type": "code",
   "execution_count": 11,
   "metadata": {},
   "outputs": [],
   "source": [
    "# Import libraries and modules\n",
    "import pandas as pd\n",
    "import numpy as np\n",
    "import matplotlib.pyplot as plt\n",
    "import seaborn as sns\n",
    "from PIL import Image\n",
    "import glob\n",
    "import os\n",
    "import kagglehub\n",
    "import warnings\n",
    "warnings.filterwarnings('ignore')"
   ]
  },
  {
   "cell_type": "code",
   "execution_count": 2,
   "metadata": {},
   "outputs": [
    {
     "name": "stdout",
     "output_type": "stream",
     "text": [
      "Downloading from https://www.kaggle.com/api/v1/datasets/download/tolgadincer/labeled-chest-xray-images?dataset_version_number=1...\n"
     ]
    },
    {
     "name": "stderr",
     "output_type": "stream",
     "text": [
      "100%|██████████| 1.17G/1.17G [00:43<00:00, 28.7MB/s]"
     ]
    },
    {
     "name": "stdout",
     "output_type": "stream",
     "text": [
      "Extracting files...\n"
     ]
    },
    {
     "name": "stderr",
     "output_type": "stream",
     "text": [
      "\n"
     ]
    },
    {
     "name": "stdout",
     "output_type": "stream",
     "text": [
      "Path to dataset files: /Users/williamnguyen/.cache/kagglehub/datasets/tolgadincer/labeled-chest-xray-images/versions/1\n"
     ]
    }
   ],
   "source": [
    "# import data from kaggle using kaggle's api\n",
    "\n",
    "path = kagglehub.dataset_download(\"tolgadincer/labeled-chest-xray-images\")\n",
    "print(\"Path to dataset files:\", path)"
   ]
  },
  {
   "cell_type": "markdown",
   "metadata": {},
   "source": [
    "## Data Preprocessing"
   ]
  },
  {
   "cell_type": "markdown",
   "metadata": {},
   "source": [
    "### Extract Training and Validation images"
   ]
  },
  {
   "cell_type": "markdown",
   "metadata": {},
   "source": [
    "All x-ray images are stored in \"test\" and \"train\" folders, with each folder having a \"NORMAL\" and \"PNEUMONIA\" labeled folder containing chest x-ray images."
   ]
  },
  {
   "cell_type": "code",
   "execution_count": 47,
   "metadata": {},
   "outputs": [],
   "source": [
    "# Created functions that extracts chest x-rays from each folder \n",
    "\n",
    "train_img = {}\n",
    "validation_img = {}\n",
    "\n",
    "\n",
    "def extract_train_imgs(label_type):\n",
    "\n",
    "    base_path = os.path.join(path, 'chest_xray', 'train', label_type)\n",
    "    image_files = glob.glob(os.path.join(base_path, '*.jpeg')) \n",
    "\n",
    "    train_img[label_type] = []\n",
    "    \n",
    "    for img in image_files:\n",
    "        opened_imgs = Image.open(img)\n",
    "        img_array = np.array(opened_imgs)\n",
    "        train_img[label_type].append(img_array)\n",
    "        \n",
    "\n",
    "    \n",
    "def extract_val_imgs(label_type):\n",
    "\n",
    "    base_path = os.path.join(path, 'chest_xray', 'test', label_type)\n",
    "    image_files = glob.glob(os.path.join(base_path, '*.jpeg')) \n",
    "\n",
    "    validation_img[label_type] = []\n",
    "    \n",
    "    for img in image_files:\n",
    "        opened_imgs = Image.open(img)\n",
    "        img_array = np.array(opened_imgs)\n",
    "        validation_img[label_type].append(img_array)\n",
    "\n",
    "\n",
    "extract_train_imgs(\"NORMAL\")\n",
    "extract_train_imgs(\"PNEUMONIA\")\n",
    "\n",
    "extract_val_imgs(\"NORMAL\")\n",
    "extract_val_imgs(\"PNEUMONIA\")"
   ]
  },
  {
   "cell_type": "code",
   "execution_count": 53,
   "metadata": {},
   "outputs": [
    {
     "data": {
      "text/plain": [
       "array([[ 0, 58, 61, ...,  0,  0,  0],\n",
       "       [ 0, 54, 56, ...,  0,  0,  0],\n",
       "       [ 0, 51, 51, ...,  0,  0,  0],\n",
       "       ...,\n",
       "       [ 0,  0,  0, ...,  0,  0,  0],\n",
       "       [ 0,  0,  0, ...,  0,  0,  0],\n",
       "       [ 0,  0,  0, ...,  0,  0,  0]], dtype=uint8)"
      ]
     },
     "execution_count": 53,
     "metadata": {},
     "output_type": "execute_result"
    }
   ],
   "source": [
    "train_img[\"NORMAL\"][0]"
   ]
  }
 ],
 "metadata": {
  "kernelspec": {
   "display_name": "base",
   "language": "python",
   "name": "python3"
  },
  "language_info": {
   "codemirror_mode": {
    "name": "ipython",
    "version": 3
   },
   "file_extension": ".py",
   "mimetype": "text/x-python",
   "name": "python",
   "nbconvert_exporter": "python",
   "pygments_lexer": "ipython3",
   "version": "3.11.7"
  }
 },
 "nbformat": 4,
 "nbformat_minor": 2
}
